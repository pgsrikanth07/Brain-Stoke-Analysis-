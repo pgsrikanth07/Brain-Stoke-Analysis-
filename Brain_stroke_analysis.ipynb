{
 "cells": [
  {
   "cell_type": "code",
   "execution_count": 1,
   "id": "cde63dae",
   "metadata": {
    "id": "cde63dae"
   },
   "outputs": [],
   "source": [
    "import pandas as pd\n",
    "import numpy as np\n",
    "import tensorflow as tf"
   ]
  },
  {
   "cell_type": "code",
   "execution_count": 2,
   "id": "9ef52652",
   "metadata": {
    "id": "9ef52652"
   },
   "outputs": [],
   "source": [
    "dataset = pd.read_csv('healthcare_dataset_stroke_data.csv',sep=',')\n",
    "X= dataset.iloc[:, :-1].values\n",
    "y= dataset.iloc[:, -1].values"
   ]
  },
  {
   "cell_type": "markdown",
   "id": "7DOnjqW_7-TI",
   "metadata": {
    "id": "7DOnjqW_7-TI"
   },
   "source": [
    "# New Section"
   ]
  },
  {
   "cell_type": "code",
   "execution_count": 3,
   "id": "6db140af",
   "metadata": {
    "colab": {
     "base_uri": "https://localhost:8080/"
    },
    "id": "6db140af",
    "outputId": "efb0ffd1-c47f-432a-d49a-1c3f79f9f7ec"
   },
   "outputs": [
    {
     "data": {
      "text/plain": [
       "array([['Male', 67.0, 0, ..., 228.69, 36.6, 'formerly smoked'],\n",
       "       ['Female', 61.0, 0, ..., 202.21, nan, 'never smoked'],\n",
       "       ['Male', 80.0, 0, ..., 105.92, 32.5, 'never smoked'],\n",
       "       ...,\n",
       "       ['Female', 35.0, 0, ..., 82.99, 30.6, 'never smoked'],\n",
       "       ['Male', 51.0, 0, ..., 166.29, 25.6, 'formerly smoked'],\n",
       "       ['Female', 44.0, 0, ..., 85.28, 26.2, 'Unknown']], dtype=object)"
      ]
     },
     "execution_count": 3,
     "metadata": {},
     "output_type": "execute_result"
    }
   ],
   "source": [
    "X"
   ]
  },
  {
   "cell_type": "code",
   "execution_count": 4,
   "id": "466dcb2b",
   "metadata": {
    "id": "466dcb2b"
   },
   "outputs": [],
   "source": [
    "from sklearn.preprocessing import LabelEncoder\n",
    "le = LabelEncoder()\n",
    "X[:, 0] = le.fit_transform(X[:, 0])\n",
    "X[:, 4] = le.fit_transform(X[:, 4])\n",
    "X[:, 6] = le.fit_transform(X[:, 6])"
   ]
  },
  {
   "cell_type": "code",
   "execution_count": 5,
   "id": "35f13b4f",
   "metadata": {
    "colab": {
     "base_uri": "https://localhost:8080/"
    },
    "id": "35f13b4f",
    "outputId": "42e61111-dfb8-4e05-82de-e5cb44ca9619"
   },
   "outputs": [
    {
     "data": {
      "text/plain": [
       "array([[1, 67.0, 0, ..., 228.69, 36.6, 'formerly smoked'],\n",
       "       [0, 61.0, 0, ..., 202.21, nan, 'never smoked'],\n",
       "       [1, 80.0, 0, ..., 105.92, 32.5, 'never smoked'],\n",
       "       ...,\n",
       "       [0, 35.0, 0, ..., 82.99, 30.6, 'never smoked'],\n",
       "       [1, 51.0, 0, ..., 166.29, 25.6, 'formerly smoked'],\n",
       "       [0, 44.0, 0, ..., 85.28, 26.2, 'Unknown']], dtype=object)"
      ]
     },
     "execution_count": 5,
     "metadata": {},
     "output_type": "execute_result"
    }
   ],
   "source": [
    "X"
   ]
  },
  {
   "cell_type": "code",
   "execution_count": 6,
   "id": "551d0fa1",
   "metadata": {
    "id": "551d0fa1"
   },
   "outputs": [],
   "source": [
    "from sklearn.compose import ColumnTransformer\n",
    "from sklearn.preprocessing import OneHotEncoder\n",
    "ct = ColumnTransformer(transformers=[('encoder', OneHotEncoder(), [5,9])], remainder='passthrough')\n",
    "X = np.array(ct.fit_transform(X))"
   ]
  },
  {
   "cell_type": "code",
   "execution_count": 7,
   "id": "e3f74a68",
   "metadata": {
    "colab": {
     "base_uri": "https://localhost:8080/"
    },
    "id": "e3f74a68",
    "outputId": "2dcd6e4c-fab4-4da4-9a95-79d83dccb1c8"
   },
   "outputs": [
    {
     "data": {
      "text/plain": [
       "array([[0.0, 0.0, 1.0, ..., 1, 228.69, 36.6],\n",
       "       [0.0, 0.0, 0.0, ..., 0, 202.21, nan],\n",
       "       [0.0, 0.0, 1.0, ..., 0, 105.92, 32.5],\n",
       "       ...,\n",
       "       [0.0, 0.0, 0.0, ..., 0, 82.99, 30.6],\n",
       "       [0.0, 0.0, 1.0, ..., 0, 166.29, 25.6],\n",
       "       [1.0, 0.0, 0.0, ..., 1, 85.28, 26.2]], dtype=object)"
      ]
     },
     "execution_count": 7,
     "metadata": {},
     "output_type": "execute_result"
    }
   ],
   "source": [
    "X"
   ]
  },
  {
   "cell_type": "code",
   "execution_count": 8,
   "id": "7eb46aac",
   "metadata": {
    "id": "7eb46aac"
   },
   "outputs": [],
   "source": [
    "from sklearn.model_selection import train_test_split\n",
    "X_train, X_test, y_train, y_test = train_test_split(X, y, test_size = 0.2, random_state = 0)"
   ]
  },
  {
   "cell_type": "code",
   "execution_count": 9,
   "id": "cb4b4e05",
   "metadata": {
    "id": "cb4b4e05"
   },
   "outputs": [],
   "source": [
    "from sklearn.preprocessing import StandardScaler\n",
    "sc = StandardScaler()\n",
    "X_train = sc.fit_transform(X_train)\n",
    "X_test = sc.transform(X_test)"
   ]
  },
  {
   "cell_type": "code",
   "execution_count": 10,
   "id": "3aefad62",
   "metadata": {
    "id": "3aefad62"
   },
   "outputs": [],
   "source": [
    "ann = tf.keras.models.Sequential()"
   ]
  },
  {
   "cell_type": "code",
   "execution_count": 11,
   "id": "8a36b566",
   "metadata": {
    "id": "8a36b566"
   },
   "outputs": [],
   "source": [
    "ann.add(tf.keras.layers.Dense(units=10, activation='relu'))"
   ]
  },
  {
   "cell_type": "code",
   "execution_count": 12,
   "id": "4282edfe",
   "metadata": {
    "id": "4282edfe"
   },
   "outputs": [],
   "source": [
    "ann.add(tf.keras.layers.Dense(units=8, activation='relu'))"
   ]
  },
  {
   "cell_type": "code",
   "execution_count": 13,
   "id": "4ff1b45f",
   "metadata": {
    "id": "4ff1b45f"
   },
   "outputs": [],
   "source": [
    "ann.add(tf.keras.layers.Dense(units=1, activation='sigmoid'))"
   ]
  },
  {
   "cell_type": "code",
   "execution_count": 14,
   "id": "7e545e53",
   "metadata": {
    "id": "7e545e53"
   },
   "outputs": [],
   "source": [
    "ann.compile(optimizer = 'adam', loss = 'binary_crossentropy', metrics = ['accuracy'])"
   ]
  },
  {
   "cell_type": "code",
   "execution_count": 15,
   "id": "df20ab1f",
   "metadata": {
    "colab": {
     "base_uri": "https://localhost:8080/"
    },
    "id": "df20ab1f",
    "outputId": "420667c5-e389-4ae8-bd68-7b7c12009ce2"
   },
   "outputs": [
    {
     "name": "stdout",
     "output_type": "stream",
     "text": [
      "Epoch 1/50\n",
      "511/511 [==============================] - 2s 2ms/step - loss: nan - accuracy: 0.9521\n",
      "Epoch 2/50\n",
      "511/511 [==============================] - 1s 2ms/step - loss: nan - accuracy: 0.9523\n",
      "Epoch 3/50\n",
      "511/511 [==============================] - 1s 2ms/step - loss: nan - accuracy: 0.9523\n",
      "Epoch 4/50\n",
      "511/511 [==============================] - 1s 2ms/step - loss: nan - accuracy: 0.9523\n",
      "Epoch 5/50\n",
      "511/511 [==============================] - 1s 2ms/step - loss: nan - accuracy: 0.9523\n",
      "Epoch 6/50\n",
      "511/511 [==============================] - 1s 2ms/step - loss: nan - accuracy: 0.9523\n",
      "Epoch 7/50\n",
      "511/511 [==============================] - 1s 2ms/step - loss: nan - accuracy: 0.9523\n",
      "Epoch 8/50\n",
      "511/511 [==============================] - 1s 2ms/step - loss: nan - accuracy: 0.9523\n",
      "Epoch 9/50\n",
      "511/511 [==============================] - 1s 2ms/step - loss: nan - accuracy: 0.9523\n",
      "Epoch 10/50\n",
      "511/511 [==============================] - 1s 2ms/step - loss: nan - accuracy: 0.9523\n",
      "Epoch 11/50\n",
      "511/511 [==============================] - 1s 2ms/step - loss: nan - accuracy: 0.9523\n",
      "Epoch 12/50\n",
      "511/511 [==============================] - 1s 2ms/step - loss: nan - accuracy: 0.9523\n",
      "Epoch 13/50\n",
      "511/511 [==============================] - 1s 2ms/step - loss: nan - accuracy: 0.9523\n",
      "Epoch 14/50\n",
      "511/511 [==============================] - 1s 2ms/step - loss: nan - accuracy: 0.9523\n",
      "Epoch 15/50\n",
      "511/511 [==============================] - 1s 2ms/step - loss: nan - accuracy: 0.9523\n",
      "Epoch 16/50\n",
      "511/511 [==============================] - 1s 2ms/step - loss: nan - accuracy: 0.9523\n",
      "Epoch 17/50\n",
      "511/511 [==============================] - 1s 2ms/step - loss: nan - accuracy: 0.9523\n",
      "Epoch 18/50\n",
      "511/511 [==============================] - 1s 2ms/step - loss: nan - accuracy: 0.9523\n",
      "Epoch 19/50\n",
      "511/511 [==============================] - 1s 2ms/step - loss: nan - accuracy: 0.9523\n",
      "Epoch 20/50\n",
      "511/511 [==============================] - 1s 2ms/step - loss: nan - accuracy: 0.9523\n",
      "Epoch 21/50\n",
      "511/511 [==============================] - 1s 2ms/step - loss: nan - accuracy: 0.9523\n",
      "Epoch 22/50\n",
      "511/511 [==============================] - 1s 2ms/step - loss: nan - accuracy: 0.9523\n",
      "Epoch 23/50\n",
      "511/511 [==============================] - 1s 2ms/step - loss: nan - accuracy: 0.9523\n",
      "Epoch 24/50\n",
      "511/511 [==============================] - 1s 2ms/step - loss: nan - accuracy: 0.9523\n",
      "Epoch 25/50\n",
      "511/511 [==============================] - 1s 2ms/step - loss: nan - accuracy: 0.9523\n",
      "Epoch 26/50\n",
      "511/511 [==============================] - 1s 2ms/step - loss: nan - accuracy: 0.9523\n",
      "Epoch 27/50\n",
      "511/511 [==============================] - 1s 2ms/step - loss: nan - accuracy: 0.9523\n",
      "Epoch 28/50\n",
      "511/511 [==============================] - 1s 2ms/step - loss: nan - accuracy: 0.9523\n",
      "Epoch 29/50\n",
      "511/511 [==============================] - 1s 2ms/step - loss: nan - accuracy: 0.9523\n",
      "Epoch 30/50\n",
      "511/511 [==============================] - 1s 2ms/step - loss: nan - accuracy: 0.9523\n",
      "Epoch 31/50\n",
      "511/511 [==============================] - 1s 2ms/step - loss: nan - accuracy: 0.9523\n",
      "Epoch 32/50\n",
      "511/511 [==============================] - 1s 2ms/step - loss: nan - accuracy: 0.9523\n",
      "Epoch 33/50\n",
      "511/511 [==============================] - 1s 2ms/step - loss: nan - accuracy: 0.9523\n",
      "Epoch 34/50\n",
      "511/511 [==============================] - 1s 2ms/step - loss: nan - accuracy: 0.9523\n",
      "Epoch 35/50\n",
      "511/511 [==============================] - 1s 2ms/step - loss: nan - accuracy: 0.9523\n",
      "Epoch 36/50\n",
      "511/511 [==============================] - 1s 2ms/step - loss: nan - accuracy: 0.9523\n",
      "Epoch 37/50\n",
      "511/511 [==============================] - 1s 2ms/step - loss: nan - accuracy: 0.9523\n",
      "Epoch 38/50\n",
      "511/511 [==============================] - 1s 2ms/step - loss: nan - accuracy: 0.9523\n",
      "Epoch 39/50\n",
      "511/511 [==============================] - 1s 2ms/step - loss: nan - accuracy: 0.9523\n",
      "Epoch 40/50\n",
      "511/511 [==============================] - 1s 2ms/step - loss: nan - accuracy: 0.9523\n",
      "Epoch 41/50\n",
      "511/511 [==============================] - 1s 2ms/step - loss: nan - accuracy: 0.9523\n",
      "Epoch 42/50\n",
      "511/511 [==============================] - 1s 2ms/step - loss: nan - accuracy: 0.9523\n",
      "Epoch 43/50\n",
      "511/511 [==============================] - 1s 2ms/step - loss: nan - accuracy: 0.9523\n",
      "Epoch 44/50\n",
      "511/511 [==============================] - 1s 2ms/step - loss: nan - accuracy: 0.9523\n",
      "Epoch 45/50\n",
      "511/511 [==============================] - 1s 2ms/step - loss: nan - accuracy: 0.9523\n",
      "Epoch 46/50\n",
      "511/511 [==============================] - 1s 2ms/step - loss: nan - accuracy: 0.9523\n",
      "Epoch 47/50\n",
      "511/511 [==============================] - 1s 2ms/step - loss: nan - accuracy: 0.9523\n",
      "Epoch 48/50\n",
      "511/511 [==============================] - 1s 3ms/step - loss: nan - accuracy: 0.9523\n",
      "Epoch 49/50\n",
      "511/511 [==============================] - 1s 2ms/step - loss: nan - accuracy: 0.9523\n",
      "Epoch 50/50\n",
      "511/511 [==============================] - 1s 2ms/step - loss: nan - accuracy: 0.9523\n"
     ]
    },
    {
     "data": {
      "text/plain": [
       "<keras.src.callbacks.History at 0x23dc49b6f10>"
      ]
     },
     "execution_count": 15,
     "metadata": {},
     "output_type": "execute_result"
    }
   ],
   "source": [
    "ann.fit(X_train, y_train, batch_size = 8, epochs = 50)"
   ]
  },
  {
   "cell_type": "code",
   "execution_count": 16,
   "id": "e1ae2dfd",
   "metadata": {
    "colab": {
     "base_uri": "https://localhost:8080/"
    },
    "id": "e1ae2dfd",
    "outputId": "e318c60e-634f-4156-9a71-ad8e29585d12"
   },
   "outputs": [
    {
     "name": "stdout",
     "output_type": "stream",
     "text": [
      "32/32 [==============================] - 0s 2ms/step\n",
      "[[0 1]\n",
      " [0 0]\n",
      " [0 0]\n",
      " ...\n",
      " [0 0]\n",
      " [0 1]\n",
      " [0 0]]\n"
     ]
    }
   ],
   "source": [
    "y_pred = ann.predict(X_test)\n",
    "y_pred = (y_pred > 0.5)\n",
    "print(np.concatenate((y_pred.reshape(len(y_pred),1), y_test.reshape(len(y_test),1)),1))"
   ]
  },
  {
   "cell_type": "code",
   "execution_count": 17,
   "id": "d18f028f",
   "metadata": {
    "colab": {
     "base_uri": "https://localhost:8080/"
    },
    "id": "d18f028f",
    "outputId": "5b8daa77-d8b5-4184-cd2c-ac2e9db2f186"
   },
   "outputs": [
    {
     "name": "stdout",
     "output_type": "stream",
     "text": [
      "[[968   0]\n",
      " [ 54   0]]\n"
     ]
    },
    {
     "data": {
      "text/plain": [
       "0.9471624266144814"
      ]
     },
     "execution_count": 17,
     "metadata": {},
     "output_type": "execute_result"
    }
   ],
   "source": [
    "from sklearn.metrics import confusion_matrix, accuracy_score\n",
    "cm = confusion_matrix(y_test, y_pred)\n",
    "print(cm)\n",
    "accuracy_score(y_test, y_pred)"
   ]
  },
  {
   "cell_type": "code",
   "execution_count": null,
   "id": "8820fa6b",
   "metadata": {
    "id": "8820fa6b"
   },
   "outputs": [],
   "source": []
  }
 ],
 "metadata": {
  "colab": {
   "provenance": []
  },
  "kernelspec": {
   "display_name": "Python 3 (ipykernel)",
   "language": "python",
   "name": "python3"
  },
  "language_info": {
   "codemirror_mode": {
    "name": "ipython",
    "version": 3
   },
   "file_extension": ".py",
   "mimetype": "text/x-python",
   "name": "python",
   "nbconvert_exporter": "python",
   "pygments_lexer": "ipython3",
   "version": "3.11.4"
  }
 },
 "nbformat": 4,
 "nbformat_minor": 5
}
